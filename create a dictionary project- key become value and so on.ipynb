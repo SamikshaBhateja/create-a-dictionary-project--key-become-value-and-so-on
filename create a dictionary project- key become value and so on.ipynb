{
 "cells": [
  {
   "cell_type": "code",
   "execution_count": 1,
   "metadata": {},
   "outputs": [],
   "source": [
    "old_dict={}"
   ]
  },
  {
   "cell_type": "code",
   "execution_count": 2,
   "metadata": {},
   "outputs": [
    {
     "name": "stdout",
     "output_type": "stream",
     "text": [
      "Number of Elements10\n"
     ]
    }
   ],
   "source": [
    "n=int(input(\"Number of Elements\"))"
   ]
  },
  {
   "cell_type": "code",
   "execution_count": 3,
   "metadata": {},
   "outputs": [
    {
     "name": "stdout",
     "output_type": "stream",
     "text": [
      "Enter Keys:A\n",
      "Enter Value:1\n",
      "Enter Keys:B\n",
      "Enter Value:2\n",
      "Enter Keys:C\n",
      "Enter Value:3\n",
      "Enter Keys:D\n",
      "Enter Value:4\n",
      "Enter Keys:E\n",
      "Enter Value:5\n",
      "Enter Keys:F\n",
      "Enter Value:6\n",
      "Enter Keys:G\n",
      "Enter Value:7\n",
      "Enter Keys:H\n",
      "Enter Value:8\n",
      "Enter Keys:I\n",
      "Enter Value:9\n",
      "Enter Keys:J\n",
      "Enter Value:10\n"
     ]
    }
   ],
   "source": [
    "for i in range (n):\n",
    "    key = input(\"Enter Keys:\")\n",
    "    value = input(\"Enter Value:\")\n",
    "    old_dict.update({key:value})\n",
    "    \n",
    "    \n"
   ]
  },
  {
   "cell_type": "code",
   "execution_count": 4,
   "metadata": {},
   "outputs": [
    {
     "data": {
      "text/plain": [
       "dict_items([('A', '1'), ('B', '2'), ('C', '3'), ('D', '4'), ('E', '5'), ('F', '6'), ('G', '7'), ('H', '8'), ('I', '9'), ('J', '10')])"
      ]
     },
     "execution_count": 4,
     "metadata": {},
     "output_type": "execute_result"
    }
   ],
   "source": [
    "old_dict.items()"
   ]
  },
  {
   "cell_type": "code",
   "execution_count": 5,
   "metadata": {},
   "outputs": [
    {
     "name": "stdout",
     "output_type": "stream",
     "text": [
      "{'A': '1', 'B': '2', 'C': '3', 'D': '4', 'E': '5', 'F': '6', 'G': '7', 'H': '8', 'I': '9', 'J': '10'}\n"
     ]
    }
   ],
   "source": [
    "print(old_dict)"
   ]
  },
  {
   "cell_type": "code",
   "execution_count": 6,
   "metadata": {},
   "outputs": [],
   "source": [
    "new_dict = dict([(value, key)for key, value in old_dict.items() ])"
   ]
  },
  {
   "cell_type": "code",
   "execution_count": 7,
   "metadata": {},
   "outputs": [
    {
     "name": "stdout",
     "output_type": "stream",
     "text": [
      "{'1': 'A', '2': 'B', '3': 'C', '4': 'D', '5': 'E', '6': 'F', '7': 'G', '8': 'H', '9': 'I', '10': 'J'}\n"
     ]
    }
   ],
   "source": [
    "print(new_dict)"
   ]
  },
  {
   "cell_type": "code",
   "execution_count": 8,
   "metadata": {},
   "outputs": [
    {
     "name": "stdout",
     "output_type": "stream",
     "text": [
      "1 : A\n",
      "2 : B\n",
      "3 : C\n",
      "4 : D\n",
      "5 : E\n",
      "6 : F\n",
      "7 : G\n",
      "8 : H\n",
      "9 : I\n",
      "10 : J\n"
     ]
    }
   ],
   "source": [
    "\n",
    "    for i in new_dict: \n",
    "     print(i, \":\" , new_dict[i])\n",
    "   "
   ]
  },
  {
   "cell_type": "code",
   "execution_count": 9,
   "metadata": {},
   "outputs": [
    {
     "name": "stdout",
     "output_type": "stream",
     "text": [
      "{'1': 'A', '2': 'B', '3': 'C', '4': 'D', '5': 'E', '6': 'F', '7': 'G', '8': 'H', '9': 'I', '10': 'J'}\n"
     ]
    }
   ],
   "source": [
    "print(new_dict) "
   ]
  },
  {
   "cell_type": "code",
   "execution_count": null,
   "metadata": {},
   "outputs": [],
   "source": []
  },
  {
   "cell_type": "code",
   "execution_count": null,
   "metadata": {},
   "outputs": [],
   "source": []
  }
 ],
 "metadata": {
  "kernelspec": {
   "display_name": "Python 3",
   "language": "python",
   "name": "python3"
  },
  "language_info": {
   "codemirror_mode": {
    "name": "ipython",
    "version": 3
   },
   "file_extension": ".py",
   "mimetype": "text/x-python",
   "name": "python",
   "nbconvert_exporter": "python",
   "pygments_lexer": "ipython3",
   "version": "3.8.3"
  }
 },
 "nbformat": 4,
 "nbformat_minor": 4
}
